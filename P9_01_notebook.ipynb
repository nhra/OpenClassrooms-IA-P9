{
 "cells": [
  {
   "cell_type": "code",
   "execution_count": 1,
   "metadata": {},
   "outputs": [],
   "source": [
    "import os\n",
    "import pandas as pd\n",
    "import numpy as np\n",
    "\n",
    "import seaborn as sns\n",
    "from matplotlib import pyplot as plt\n",
    "%matplotlib inline\n",
    "\n",
    "import warnings\n",
    "warnings.filterwarnings(\"ignore\")"
   ]
  },
  {
   "cell_type": "code",
   "execution_count": 2,
   "metadata": {},
   "outputs": [],
   "source": [
    "workdir = \"C:\\\\Users\\\\RNH\\\\Desktop\\\\Travail\\\\Projet9\\\\project\\\\train_reco\""
   ]
  },
  {
   "cell_type": "markdown",
   "metadata": {},
   "source": [
    "# 1. Data preparation"
   ]
  },
  {
   "cell_type": "code",
   "execution_count": 3,
   "metadata": {},
   "outputs": [
    {
     "name": "stdout",
     "output_type": "stream",
     "text": [
      "####################\n",
      "# DATA PREPARATION #\n",
      "####################\n",
      "\n",
      "-------------------\n",
      "| Collecting data |\n",
      "-------------------\n",
      "\n",
      "Path to click folder: C:\\Users\\RNH\\Desktop\\Travail\\Projet9\\project\\train_reco\\clicks\n",
      "Path to article file: C:\\Users\\RNH\\Desktop\\Travail\\Projet9\\project\\train_reco\\articles_metadata.csv\n",
      "Number of unique users: 322897\n",
      "Number of unique articles: 46033\n",
      "\n",
      "------------------\n",
      "| Filtering data |\n",
      "------------------\n",
      "\n",
      "Minimum number of user ratings to consider: 0\n",
      "Minimum number of article ratings to consider: 0\n",
      "Shape of the unfiltered dataframe: (2988181, 4)\n",
      "Shape of the filtered dataframe: (2988181, 4)\n",
      "Saving the data csv file to: C:\\Users\\RNH\\Desktop\\Travail\\Projet9\\project\\train_reco\\save\n",
      "\n",
      "--------------------------------\n",
      "| Splitting data in train/Test |\n",
      "--------------------------------\n",
      "\n",
      "Random state used to shuffle the data before applying the split: 140583\n",
      "Proportion of the dataset in the test split: 0.1\n",
      "Shape of the train set: (2689362, 4)\n",
      "Shape of the test set: (298819, 4)\n",
      "Saving the train/test csv files to: C:\\Users\\RNH\\Desktop\\Travail\\Projet9\\project\\train_reco\\save\n",
      "\n",
      "------------\n",
      "Total data preparation time: 0m 47s\n"
     ]
    }
   ],
   "source": [
    "click_folder = workdir + \"\\\\clicks\"\n",
    "article_file = workdir + \"\\\\articles_metadata.csv\"\n",
    "save_folder = workdir + \"\\\\save\"\n",
    "\n",
    "%run $workdir/prepare_data.py \\\n",
    "--path_to_click_folder $click_folder \\\n",
    "--path_to_articles $article_file \\\n",
    "--path_to_save_folder $save_folder \\\n",
    "--test_size_ratio 0.1"
   ]
  },
  {
   "cell_type": "code",
   "execution_count": 4,
   "metadata": {},
   "outputs": [],
   "source": [
    "df_train = pd.read_csv(\"./save/df_train.csv\", sep=\",\")\n",
    "df_train.sample(n=10000).to_csv(os.path.join(workdir, \"save\", \"df_train_small.csv\"), index=False)"
   ]
  },
  {
   "cell_type": "code",
   "execution_count": 5,
   "metadata": {},
   "outputs": [],
   "source": [
    "df_test = pd.read_csv(\"./save/df_test.csv\", sep=\",\")\n",
    "df_test.sample(n=1000).to_csv(os.path.join(workdir, \"save\", \"df_test_small.csv\"), index=False)"
   ]
  },
  {
   "cell_type": "markdown",
   "metadata": {},
   "source": [
    "# 2. EDA"
   ]
  },
  {
   "cell_type": "code",
   "execution_count": 6,
   "metadata": {},
   "outputs": [],
   "source": [
    "df_all = pd.read_csv(\"./save/df_all.csv\", sep=\",\")"
   ]
  },
  {
   "cell_type": "code",
   "execution_count": 233,
   "metadata": {},
   "outputs": [
    {
     "data": {
      "text/html": [
       "<div>\n",
       "<style scoped>\n",
       "    .dataframe tbody tr th:only-of-type {\n",
       "        vertical-align: middle;\n",
       "    }\n",
       "\n",
       "    .dataframe tbody tr th {\n",
       "        vertical-align: top;\n",
       "    }\n",
       "\n",
       "    .dataframe thead th {\n",
       "        text-align: right;\n",
       "    }\n",
       "</style>\n",
       "<table border=\"1\" class=\"dataframe\">\n",
       "  <thead>\n",
       "    <tr style=\"text-align: right;\">\n",
       "      <th></th>\n",
       "      <th>user_id</th>\n",
       "      <th>article_id</th>\n",
       "      <th>session_size</th>\n",
       "      <th>click_timestamp</th>\n",
       "    </tr>\n",
       "  </thead>\n",
       "  <tbody>\n",
       "    <tr>\n",
       "      <th>0</th>\n",
       "      <td>0</td>\n",
       "      <td>157541</td>\n",
       "      <td>2</td>\n",
       "      <td>1506826828020</td>\n",
       "    </tr>\n",
       "    <tr>\n",
       "      <th>1</th>\n",
       "      <td>20</td>\n",
       "      <td>157541</td>\n",
       "      <td>2</td>\n",
       "      <td>1506836548634</td>\n",
       "    </tr>\n",
       "    <tr>\n",
       "      <th>2</th>\n",
       "      <td>44</td>\n",
       "      <td>157541</td>\n",
       "      <td>5</td>\n",
       "      <td>1506857278141</td>\n",
       "    </tr>\n",
       "    <tr>\n",
       "      <th>3</th>\n",
       "      <td>45</td>\n",
       "      <td>157541</td>\n",
       "      <td>2</td>\n",
       "      <td>1506827309970</td>\n",
       "    </tr>\n",
       "    <tr>\n",
       "      <th>4</th>\n",
       "      <td>76</td>\n",
       "      <td>157541</td>\n",
       "      <td>2</td>\n",
       "      <td>1506828823469</td>\n",
       "    </tr>\n",
       "    <tr>\n",
       "      <th>...</th>\n",
       "      <td>...</td>\n",
       "      <td>...</td>\n",
       "      <td>...</td>\n",
       "      <td>...</td>\n",
       "    </tr>\n",
       "    <tr>\n",
       "      <th>2988176</th>\n",
       "      <td>195186</td>\n",
       "      <td>2221</td>\n",
       "      <td>4</td>\n",
       "      <td>1508210469562</td>\n",
       "    </tr>\n",
       "    <tr>\n",
       "      <th>2988177</th>\n",
       "      <td>75658</td>\n",
       "      <td>271117</td>\n",
       "      <td>4</td>\n",
       "      <td>1508210951703</td>\n",
       "    </tr>\n",
       "    <tr>\n",
       "      <th>2988178</th>\n",
       "      <td>217129</td>\n",
       "      <td>20204</td>\n",
       "      <td>2</td>\n",
       "      <td>1508210990810</td>\n",
       "    </tr>\n",
       "    <tr>\n",
       "      <th>2988179</th>\n",
       "      <td>217129</td>\n",
       "      <td>70196</td>\n",
       "      <td>2</td>\n",
       "      <td>1508211020810</td>\n",
       "    </tr>\n",
       "    <tr>\n",
       "      <th>2988180</th>\n",
       "      <td>51099</td>\n",
       "      <td>98243</td>\n",
       "      <td>2</td>\n",
       "      <td>1508211782523</td>\n",
       "    </tr>\n",
       "  </tbody>\n",
       "</table>\n",
       "<p>2988181 rows × 4 columns</p>\n",
       "</div>"
      ],
      "text/plain": [
       "         user_id  article_id  session_size  click_timestamp\n",
       "0              0      157541             2    1506826828020\n",
       "1             20      157541             2    1506836548634\n",
       "2             44      157541             5    1506857278141\n",
       "3             45      157541             2    1506827309970\n",
       "4             76      157541             2    1506828823469\n",
       "...          ...         ...           ...              ...\n",
       "2988176   195186        2221             4    1508210469562\n",
       "2988177    75658      271117             4    1508210951703\n",
       "2988178   217129       20204             2    1508210990810\n",
       "2988179   217129       70196             2    1508211020810\n",
       "2988180    51099       98243             2    1508211782523\n",
       "\n",
       "[2988181 rows x 4 columns]"
      ]
     },
     "execution_count": 233,
     "metadata": {},
     "output_type": "execute_result"
    }
   ],
   "source": [
    "df_all"
   ]
  },
  {
   "cell_type": "code",
   "execution_count": 230,
   "metadata": {},
   "outputs": [
    {
     "data": {
      "text/plain": [
       "124"
      ]
     },
     "execution_count": 230,
     "metadata": {},
     "output_type": "execute_result"
    }
   ],
   "source": [
    "df_all[\"session_size\"].max()"
   ]
  },
  {
   "cell_type": "code",
   "execution_count": 229,
   "metadata": {},
   "outputs": [
    {
     "data": {
      "text/html": [
       "<div>\n",
       "<style scoped>\n",
       "    .dataframe tbody tr th:only-of-type {\n",
       "        vertical-align: middle;\n",
       "    }\n",
       "\n",
       "    .dataframe tbody tr th {\n",
       "        vertical-align: top;\n",
       "    }\n",
       "\n",
       "    .dataframe thead th {\n",
       "        text-align: right;\n",
       "    }\n",
       "</style>\n",
       "<table border=\"1\" class=\"dataframe\">\n",
       "  <thead>\n",
       "    <tr style=\"text-align: right;\">\n",
       "      <th></th>\n",
       "      <th>user_id</th>\n",
       "      <th>article_id</th>\n",
       "      <th>session_size</th>\n",
       "      <th>click_timestamp</th>\n",
       "    </tr>\n",
       "  </thead>\n",
       "  <tbody>\n",
       "    <tr>\n",
       "      <th>272634</th>\n",
       "      <td>73574</td>\n",
       "      <td>207255</td>\n",
       "      <td>124</td>\n",
       "      <td>1507586791311</td>\n",
       "    </tr>\n",
       "    <tr>\n",
       "      <th>386548</th>\n",
       "      <td>73574</td>\n",
       "      <td>207778</td>\n",
       "      <td>124</td>\n",
       "      <td>1507565732532</td>\n",
       "    </tr>\n",
       "    <tr>\n",
       "      <th>927404</th>\n",
       "      <td>73574</td>\n",
       "      <td>336223</td>\n",
       "      <td>124</td>\n",
       "      <td>1507567262438</td>\n",
       "    </tr>\n",
       "    <tr>\n",
       "      <th>948750</th>\n",
       "      <td>73574</td>\n",
       "      <td>42298</td>\n",
       "      <td>124</td>\n",
       "      <td>1507577979930</td>\n",
       "    </tr>\n",
       "    <tr>\n",
       "      <th>951213</th>\n",
       "      <td>73574</td>\n",
       "      <td>65374</td>\n",
       "      <td>124</td>\n",
       "      <td>1507573989194</td>\n",
       "    </tr>\n",
       "    <tr>\n",
       "      <th>...</th>\n",
       "      <td>...</td>\n",
       "      <td>...</td>\n",
       "      <td>...</td>\n",
       "      <td>...</td>\n",
       "    </tr>\n",
       "    <tr>\n",
       "      <th>2582268</th>\n",
       "      <td>73574</td>\n",
       "      <td>107194</td>\n",
       "      <td>124</td>\n",
       "      <td>1507594898900</td>\n",
       "    </tr>\n",
       "    <tr>\n",
       "      <th>2582294</th>\n",
       "      <td>73574</td>\n",
       "      <td>107207</td>\n",
       "      <td>124</td>\n",
       "      <td>1507595155260</td>\n",
       "    </tr>\n",
       "    <tr>\n",
       "      <th>2582323</th>\n",
       "      <td>73574</td>\n",
       "      <td>107083</td>\n",
       "      <td>124</td>\n",
       "      <td>1507595285962</td>\n",
       "    </tr>\n",
       "    <tr>\n",
       "      <th>2582364</th>\n",
       "      <td>73574</td>\n",
       "      <td>107298</td>\n",
       "      <td>124</td>\n",
       "      <td>1507596202425</td>\n",
       "    </tr>\n",
       "    <tr>\n",
       "      <th>2582453</th>\n",
       "      <td>73574</td>\n",
       "      <td>195193</td>\n",
       "      <td>124</td>\n",
       "      <td>1507596232425</td>\n",
       "    </tr>\n",
       "  </tbody>\n",
       "</table>\n",
       "<p>124 rows × 4 columns</p>\n",
       "</div>"
      ],
      "text/plain": [
       "         user_id  article_id  session_size  click_timestamp\n",
       "272634     73574      207255           124    1507586791311\n",
       "386548     73574      207778           124    1507565732532\n",
       "927404     73574      336223           124    1507567262438\n",
       "948750     73574       42298           124    1507577979930\n",
       "951213     73574       65374           124    1507573989194\n",
       "...          ...         ...           ...              ...\n",
       "2582268    73574      107194           124    1507594898900\n",
       "2582294    73574      107207           124    1507595155260\n",
       "2582323    73574      107083           124    1507595285962\n",
       "2582364    73574      107298           124    1507596202425\n",
       "2582453    73574      195193           124    1507596232425\n",
       "\n",
       "[124 rows x 4 columns]"
      ]
     },
     "execution_count": 229,
     "metadata": {},
     "output_type": "execute_result"
    }
   ],
   "source": [
    "df_all[df_all[\"session_size\"] == df_all[\"session_size\"].max()]"
   ]
  },
  {
   "cell_type": "code",
   "execution_count": 231,
   "metadata": {},
   "outputs": [
    {
     "data": {
      "image/png": "[encoded data removed]",
      "text/plain": [
       "<Figure size 1440x576 with 1 Axes>"
      ]
     },
     "metadata": {
      "needs_background": "light"
     },
     "output_type": "display_data"
    }
   ],
   "source": [
    "fig, ax = plt.subplots(figsize=(20, 8))\n",
    "plt.rcParams.update({\"font.size\": 14})\n",
    "#data = pd.DataFrame(df_all[\"session_size\"].value_counts().sort_index(ascending=True))\n",
    "s = sns.barplot(ax=ax, x=df_all[\"session_size\"].value_counts().sort_index(ascending=True).index,\n",
    "                y=df_all[\"session_size\"].value_counts().sort_index(ascending=True).values)\n",
    "s.set_xticklabels(s.get_xticklabels(),rotation=90)\n",
    "ax.set_xlabel(\"Session size\")\n",
    "ax.set_ylabel(\"Count\")\n",
    "plt.title(\"Session size counts\")\n",
    "#for p in s.patches:\n",
    "#    s.annotate(\"%.2f\" % p.get_height(), \n",
    "#               (p.get_x() + p.get_width() / 2., p.get_height()),\n",
    "#               ha=\"center\", va=\"center\", \n",
    "#               fontsize=14, color=\"black\", xytext=(0, 10),\n",
    "#               textcoords=\"offset points\")\n",
    "plt.show()"
   ]
  },
  {
   "cell_type": "code",
   "execution_count": 227,
   "metadata": {},
   "outputs": [
    {
     "data": {
      "text/plain": [
       "article_id\n",
       "160974    37213\n",
       "272143    28943\n",
       "336221    23851\n",
       "234698    23499\n",
       "123909    23122\n",
       "          ...  \n",
       "120347        1\n",
       "120361        1\n",
       "120365        1\n",
       "120371        1\n",
       "3             1\n",
       "Name: session_size, Length: 46033, dtype: int64"
      ]
     },
     "execution_count": 227,
     "metadata": {},
     "output_type": "execute_result"
    }
   ],
   "source": [
    "df_all.groupby(\"article_id\")[\"session_size\"].count().sort_values(ascending=False)#.clip(upper=9999)"
   ]
  },
  {
   "cell_type": "markdown",
   "metadata": {},
   "source": [
    "# 3. Evaluation of recommendation models"
   ]
  },
  {
   "cell_type": "markdown",
   "metadata": {},
   "source": [
    "## 3.1 Weighted mean rating"
   ]
  },
  {
   "cell_type": "code",
   "execution_count": 31,
   "metadata": {},
   "outputs": [
    {
     "name": "stderr",
     "output_type": "stream",
     "text": [
      "  0%|          | 0/2512 [00:00<?, ?it/s]"
     ]
    },
    {
     "name": "stdout",
     "output_type": "stream",
     "text": [
      "#######################################\n",
      "# TRAINING STEP: WEIGHTED MEAN RATING #\n",
      "#######################################\n",
      "\n",
      "----------------------------------\n",
      "| Getting rating counts and mean |\n",
      "----------------------------------\n",
      "\n",
      "Path to df_train csv file: C:\\Users\\RNH\\Desktop\\Travail\\Projet9\\project\\train_reco\\save\\df_train_small.csv\n"
     ]
    },
    {
     "name": "stderr",
     "output_type": "stream",
     "text": [
      "100%|██████████| 2512/2512 [27:02<00:00,  1.55it/s]\n"
     ]
    },
    {
     "name": "stdout",
     "output_type": "stream",
     "text": [
      "\n",
      "-----------------------------------\n",
      "| Computing weighted mean ratings |\n",
      "-----------------------------------\n",
      "\n",
      "Weighted mean m parameter: 5\n",
      "Path to the saved df_reco_wmr csv file: C:\\Users\\RNH\\Desktop\\Travail\\Projet9\\project\\train_reco\\save\\df_reco_wmr.csv\n",
      "\n",
      "------------------\n",
      "| Computing RMSE |\n",
      "------------------\n",
      "\n",
      "Path to df_test csv file: C:\\Users\\RNH\\Desktop\\Travail\\Projet9\\project\\train_reco\\save\\df_test_small.csv\n",
      "RMSE: 2.86\n",
      "\n",
      "------------\n",
      "Total recommendation step time: 27m 3s\n"
     ]
    },
    {
     "data": {
      "text/plain": [
       "<Figure size 432x288 with 0 Axes>"
      ]
     },
     "metadata": {},
     "output_type": "display_data"
    }
   ],
   "source": [
    "df_train_path = workdir + \"\\\\save\\\\df_train_small.csv\"\n",
    "df_test_path = workdir + \"\\\\save\\\\df_test_small.csv\"\n",
    "min_ratings = 5\n",
    "save_folder = workdir + \"\\\\save\"\n",
    "\n",
    "%run $workdir/reco_wmr.py \\\n",
    "--path_to_df_train $df_train_path \\\n",
    "--path_to_df_test $df_test_path \\\n",
    "--min_ratings $min_ratings \\\n",
    "--path_to_save_folder $save_folder"
   ]
  },
  {
   "cell_type": "code",
   "execution_count": 32,
   "metadata": {},
   "outputs": [
    {
     "data": {
      "text/html": [
       "<div>\n",
       "<style scoped>\n",
       "    .dataframe tbody tr th:only-of-type {\n",
       "        vertical-align: middle;\n",
       "    }\n",
       "\n",
       "    .dataframe tbody tr th {\n",
       "        vertical-align: top;\n",
       "    }\n",
       "\n",
       "    .dataframe thead th {\n",
       "        text-align: right;\n",
       "    }\n",
       "</style>\n",
       "<table border=\"1\" class=\"dataframe\">\n",
       "  <thead>\n",
       "    <tr style=\"text-align: right;\">\n",
       "      <th></th>\n",
       "      <th>session_size</th>\n",
       "      <th>session_size_pred</th>\n",
       "    </tr>\n",
       "    <tr>\n",
       "      <th>article_id</th>\n",
       "      <th></th>\n",
       "      <th></th>\n",
       "    </tr>\n",
       "  </thead>\n",
       "  <tbody>\n",
       "    <tr>\n",
       "      <th>4907</th>\n",
       "      <td>3</td>\n",
       "      <td>5.126165</td>\n",
       "    </tr>\n",
       "    <tr>\n",
       "      <th>5408</th>\n",
       "      <td>6</td>\n",
       "      <td>3.987017</td>\n",
       "    </tr>\n",
       "    <tr>\n",
       "      <th>5408</th>\n",
       "      <td>2</td>\n",
       "      <td>3.987017</td>\n",
       "    </tr>\n",
       "    <tr>\n",
       "      <th>14827</th>\n",
       "      <td>7</td>\n",
       "      <td>4.313859</td>\n",
       "    </tr>\n",
       "    <tr>\n",
       "      <th>16087</th>\n",
       "      <td>2</td>\n",
       "      <td>4.411879</td>\n",
       "    </tr>\n",
       "    <tr>\n",
       "      <th>...</th>\n",
       "      <td>...</td>\n",
       "      <td>...</td>\n",
       "    </tr>\n",
       "    <tr>\n",
       "      <th>357554</th>\n",
       "      <td>2</td>\n",
       "      <td>4.313859</td>\n",
       "    </tr>\n",
       "    <tr>\n",
       "      <th>357554</th>\n",
       "      <td>7</td>\n",
       "      <td>4.313859</td>\n",
       "    </tr>\n",
       "    <tr>\n",
       "      <th>358109</th>\n",
       "      <td>5</td>\n",
       "      <td>4.235394</td>\n",
       "    </tr>\n",
       "    <tr>\n",
       "      <th>362272</th>\n",
       "      <td>2</td>\n",
       "      <td>4.269022</td>\n",
       "    </tr>\n",
       "    <tr>\n",
       "      <th>363916</th>\n",
       "      <td>2</td>\n",
       "      <td>4.480525</td>\n",
       "    </tr>\n",
       "  </tbody>\n",
       "</table>\n",
       "<p>831 rows × 2 columns</p>\n",
       "</div>"
      ],
      "text/plain": [
       "            session_size  session_size_pred\n",
       "article_id                                 \n",
       "4907                   3           5.126165\n",
       "5408                   6           3.987017\n",
       "5408                   2           3.987017\n",
       "14827                  7           4.313859\n",
       "16087                  2           4.411879\n",
       "...                  ...                ...\n",
       "357554                 2           4.313859\n",
       "357554                 7           4.313859\n",
       "358109                 5           4.235394\n",
       "362272                 2           4.269022\n",
       "363916                 2           4.480525\n",
       "\n",
       "[831 rows x 2 columns]"
      ]
     },
     "execution_count": 32,
     "metadata": {},
     "output_type": "execute_result"
    }
   ],
   "source": [
    "df_reco_wmr = pd.read_csv(\"./save/df_reco_wmr_pred.csv\", sep=\",\", index_col=0)\n",
    "df_reco_wmr"
   ]
  },
  {
   "cell_type": "markdown",
   "metadata": {},
   "source": [
    "## 3.2 Item-Item similarity"
   ]
  },
  {
   "cell_type": "code",
   "execution_count": 33,
   "metadata": {},
   "outputs": [
    {
     "name": "stdout",
     "output_type": "stream",
     "text": [
      "#######################################\n",
      "# TRAINING STEP: ITEM-ITEM SIMILARITY #\n",
      "#######################################\n",
      "\n",
      "----------------------\n",
      "| Reading embeddings |\n",
      "----------------------\n",
      "\n",
      "Path to embeddings pickle file: C:\\Users\\RNH\\Desktop\\Travail\\Projet9\\project\\train_reco\\articles_embeddings.pickle\n",
      "\n",
      "----------------------------\n",
      "| Computing Top N accuracy |\n",
      "----------------------------\n",
      "\n",
      "Path to dataframe csv file: C:\\Users\\RNH\\Desktop\\Travail\\Projet9\\project\\train_reco\\save\\df_all.csv\n",
      "Number of random users considered: 10\n",
      "\n"
     ]
    },
    {
     "name": "stderr",
     "output_type": "stream",
     "text": [
      "  0%|          | 327/364047 [00:00<01:52, 3237.89it/s]"
     ]
    },
    {
     "name": "stdout",
     "output_type": "stream",
     "text": [
      "Computing cosine similarity for user 160497 first read article\n",
      "First read article ID: 111210\n",
      "Next read article ID: 284452\n",
      "All next articles: [284452]\n"
     ]
    },
    {
     "name": "stderr",
     "output_type": "stream",
     "text": [
      "100%|██████████| 364047/364047 [01:40<00:00, 3624.38it/s]\n",
      "  0%|          | 361/364047 [00:00<01:40, 3609.99it/s]"
     ]
    },
    {
     "name": "stdout",
     "output_type": "stream",
     "text": [
      "Number of articles with similarity > 0.5: 17773\n",
      "Top 1 Reco: [279648]\n",
      "Top 2 Reco: [279648 281163]\n",
      "Top 3 Reco: [279648 281163 277776]\n",
      "Top 4 Reco: [279648 281163 277776 281531]\n",
      "Top 5 Reco: [279648 281163 277776 281531 278164]\n",
      "\n",
      "Computing cosine similarity for user 109386 first read article\n",
      "First read article ID: 64329\n",
      "Next read article ID: 156447\n",
      "All next articles: [156447 293301 313602 159762 156654 285524 285343 124749 124350 123756\n",
      " 129434 129434  87224 336223 119193 183176 336245]\n"
     ]
    },
    {
     "name": "stderr",
     "output_type": "stream",
     "text": [
      "100%|██████████| 364047/364047 [01:45<00:00, 3440.25it/s]\n",
      "  0%|          | 339/364047 [00:00<01:47, 3388.71it/s]"
     ]
    },
    {
     "name": "stdout",
     "output_type": "stream",
     "text": [
      "Number of articles with similarity > 0.5: 24551\n",
      "Top 1 Reco: [356361]\n",
      "Top 2 Reco: [356361 156690]\n",
      "Top 3 Reco: [356361 156690 211944]\n",
      "Top 4 Reco: [356361 156690 211944 160132]\n",
      "Top 5 Reco: [356361 156690 211944 160132 357812]\n",
      "\n",
      "Computing cosine similarity for user 225045 first read article\n",
      "First read article ID: 140528\n",
      "Next read article ID: 338339\n",
      "All next articles: [338339 124749 293114 284985 360601  96523 273450  96210  32088  20691]\n"
     ]
    },
    {
     "name": "stderr",
     "output_type": "stream",
     "text": [
      "100%|██████████| 364047/364047 [01:47<00:00, 3400.24it/s]\n",
      "  0%|          | 319/364047 [00:00<01:54, 3189.96it/s]"
     ]
    },
    {
     "name": "stdout",
     "output_type": "stream",
     "text": [
      "Number of articles with similarity > 0.5: 10088\n",
      "Top 1 Reco: [123609]\n",
      "Top 2 Reco: [123609 141026]\n",
      "Top 3 Reco: [123609 141026 140676]\n",
      "Top 4 Reco: [123609 141026 140676 124717]\n",
      "Top 5 Reco: [123609 141026 140676 124717 140678]\n",
      "\n",
      "Computing cosine similarity for user 139191 first read article\n",
      "First read article ID: 313431\n",
      "Next read article ID: 70646\n",
      "All next articles: [ 70646 206785  63304]\n"
     ]
    },
    {
     "name": "stderr",
     "output_type": "stream",
     "text": [
      "100%|██████████| 364047/364047 [01:46<00:00, 3415.88it/s]\n",
      "  0%|          | 338/364047 [00:00<01:48, 3346.65it/s]"
     ]
    },
    {
     "name": "stdout",
     "output_type": "stream",
     "text": [
      "Number of articles with similarity > 0.5: 30184\n",
      "Top 1 Reco: [313006]\n",
      "Top 2 Reco: [313006 313868]\n",
      "Top 3 Reco: [313006 313868 313530]\n",
      "Top 4 Reco: [313006 313868 313530 310074]\n",
      "Top 5 Reco: [313006 313868 313530 310074 313601]\n",
      "\n",
      "Computing cosine similarity for user 105215 first read article\n",
      "First read article ID: 156447\n",
      "Next read article ID: 158082\n",
      "All next articles: [158082 338350  64329 354086 336220]\n"
     ]
    },
    {
     "name": "stderr",
     "output_type": "stream",
     "text": [
      "100%|██████████| 364047/364047 [01:46<00:00, 3432.41it/s]\n",
      "  0%|          | 384/364047 [00:00<01:34, 3838.10it/s]"
     ]
    },
    {
     "name": "stdout",
     "output_type": "stream",
     "text": [
      "Number of articles with similarity > 0.5: 25457\n",
      "Top 1 Reco: [158229]\n",
      "Top 2 Reco: [158229 161334]\n",
      "Top 3 Reco: [158229 161334 159674]\n",
      "Top 4 Reco: [158229 161334 159674 159762]\n",
      "Top 5 Reco: [158229 161334 159674 159762 156624]\n",
      "\n",
      "Computing cosine similarity for user 124268 first read article\n",
      "First read article ID: 156624\n",
      "Next read article ID: 158082\n",
      "All next articles: [158082 162765]\n"
     ]
    },
    {
     "name": "stderr",
     "output_type": "stream",
     "text": [
      "100%|██████████| 364047/364047 [01:47<00:00, 3387.41it/s]\n",
      "  0%|          | 306/364047 [00:00<01:58, 3059.00it/s]"
     ]
    },
    {
     "name": "stdout",
     "output_type": "stream",
     "text": [
      "Number of articles with similarity > 0.5: 18886\n",
      "Top 1 Reco: [158536]\n",
      "Top 2 Reco: [158536 156447]\n",
      "Top 3 Reco: [158536 156447 160918]\n",
      "Top 4 Reco: [158536 156447 160918 159762]\n",
      "Top 5 Reco: [158536 156447 160918 159762 157192]\n",
      "\n",
      "Computing cosine similarity for user 27730 first read article\n",
      "First read article ID: 207391\n",
      "Next read article ID: 118948\n",
      "All next articles: [118948  96663 202557 160974 156560 336476 288321 289186 331116 215613\n",
      " 202355 218028]\n"
     ]
    },
    {
     "name": "stderr",
     "output_type": "stream",
     "text": [
      "100%|██████████| 364047/364047 [01:45<00:00, 3466.95it/s]\n",
      "  0%|          | 351/364047 [00:00<01:43, 3508.55it/s]"
     ]
    },
    {
     "name": "stdout",
     "output_type": "stream",
     "text": [
      "Number of articles with similarity > 0.5: 20167\n",
      "Top 1 Reco: [206845]\n",
      "Top 2 Reco: [206845 207310]\n",
      "Top 3 Reco: [206845 207310 206639]\n",
      "Top 4 Reco: [206845 207310 206639 206197]\n",
      "Top 5 Reco: [206845 207310 206639 206197 207834]\n",
      "\n",
      "Computing cosine similarity for user 147489 first read article\n",
      "First read article ID: 206462\n",
      "Next read article ID: 284312\n",
      "All next articles: [284312 313431 199197 123757 123818 123909 276970]\n"
     ]
    },
    {
     "name": "stderr",
     "output_type": "stream",
     "text": [
      "100%|██████████| 364047/364047 [01:45<00:00, 3460.92it/s]\n",
      "  0%|          | 348/364047 [00:00<01:44, 3478.59it/s]"
     ]
    },
    {
     "name": "stdout",
     "output_type": "stream",
     "text": [
      "Number of articles with similarity > 0.5: 15909\n",
      "Top 1 Reco: [207711]\n",
      "Top 2 Reco: [207711 284459]\n",
      "Top 3 Reco: [207711 284459  64065]\n",
      "Top 4 Reco: [207711 284459  64065 208524]\n",
      "Top 5 Reco: [207711 284459  64065 208524 346227]\n",
      "\n",
      "Computing cosine similarity for user 239068 first read article\n",
      "First read article ID: 87224\n",
      "Next read article ID: 107212\n",
      "All next articles: [107212]\n"
     ]
    },
    {
     "name": "stderr",
     "output_type": "stream",
     "text": [
      "100%|██████████| 364047/364047 [01:45<00:00, 3466.88it/s]\n",
      "  0%|          | 350/364047 [00:00<01:43, 3498.59it/s]"
     ]
    },
    {
     "name": "stdout",
     "output_type": "stream",
     "text": [
      "Number of articles with similarity > 0.5: 21992\n",
      "Top 1 Reco: [284638]\n",
      "Top 2 Reco: [284638  86733]\n",
      "Top 3 Reco: [284638  86733  86384]\n",
      "Top 4 Reco: [284638  86733  86384 105558]\n",
      "Top 5 Reco: [284638  86733  86384 105558  98309]\n",
      "\n",
      "Computing cosine similarity for user 271841 first read article\n",
      "First read article ID: 289090\n",
      "Next read article ID: 235616\n",
      "All next articles: [235616 336220]\n"
     ]
    },
    {
     "name": "stderr",
     "output_type": "stream",
     "text": [
      "100%|██████████| 364047/364047 [01:44<00:00, 3473.58it/s]\n"
     ]
    },
    {
     "name": "stdout",
     "output_type": "stream",
     "text": [
      "Number of articles with similarity > 0.5: 11099\n",
      "Top 1 Reco: [288321]\n",
      "Top 2 Reco: [288321 344406]\n",
      "Top 3 Reco: [288321 344406 288500]\n",
      "Top 4 Reco: [288321 344406 288500 289186]\n",
      "Top 5 Reco: [288321 344406 288500 289186 288457]\n",
      "\n",
      "Top 1 accuracy on 10 random users: 0.0\n",
      "Top 2 accuracy on 10 random users: 0.0\n",
      "Top 3 accuracy on 10 random users: 0.0\n",
      "Top 4 accuracy on 10 random users: 0.0\n",
      "Top 5 accuracy on 10 random users: 0.0\n",
      "Next in Reco accuracy on 10 random users: 0.6\n",
      "Any Reco in Next accuracy on 10 random users: 0.7\n",
      "\n",
      "------------\n",
      "Total recommendation step time: 19m 7s\n"
     ]
    }
   ],
   "source": [
    "df_path = workdir + \"\\\\save\\\\df_all.csv\"\n",
    "df_test_path = workdir + \"\\\\save\\\\df_test_small.csv\"\n",
    "path_to_embeddings = workdir + \"\\\\articles_embeddings.pickle\"\n",
    "n_random_users = 10\n",
    "save_folder = workdir + \"\\\\save\"\n",
    "\n",
    "%run $workdir/reco_iis.py \\\n",
    "--path_to_df $df_path \\\n",
    "--path_to_embeddings $path_to_embeddings \\\n",
    "--n_random_users $n_random_users \\\n",
    "--path_to_save_folder $save_folder"
   ]
  },
  {
   "cell_type": "markdown",
   "metadata": {},
   "source": [
    "## 3.3 Collaborative filtering"
   ]
  },
  {
   "cell_type": "markdown",
   "metadata": {},
   "source": [
    "<b> Top 15 users and articles (most clicks) </b>"
   ]
  },
  {
   "cell_type": "code",
   "execution_count": 34,
   "metadata": {},
   "outputs": [
    {
     "data": {
      "text/plain": [
       "user_id\n",
       "5890     1232\n",
       "73574     939\n",
       "15867     900\n",
       "80350     783\n",
       "15275     746\n",
       "2151      722\n",
       "4568      529\n",
       "12897     513\n",
       "11521     502\n",
       "34541     501\n",
       "16695     480\n",
       "6922      469\n",
       "4966      465\n",
       "851       452\n",
       "48723     451\n",
       "Name: session_size, dtype: int64"
      ]
     },
     "execution_count": 34,
     "metadata": {},
     "output_type": "execute_result"
    }
   ],
   "source": [
    "users_grouped = df_all.groupby(\"user_id\")[\"session_size\"].count()\n",
    "top_users = users_grouped.sort_values(ascending=False)[:15]\n",
    "top_users"
   ]
  },
  {
   "cell_type": "code",
   "execution_count": 35,
   "metadata": {},
   "outputs": [
    {
     "data": {
      "text/plain": [
       "article_id\n",
       "160974    37213\n",
       "272143    28943\n",
       "336221    23851\n",
       "234698    23499\n",
       "123909    23122\n",
       "336223    21855\n",
       "96210     21577\n",
       "162655    21062\n",
       "183176    20303\n",
       "168623    19526\n",
       "331116    18788\n",
       "158536    18646\n",
       "64329     18618\n",
       "199198    17221\n",
       "272660    16175\n",
       "Name: session_size, dtype: int64"
      ]
     },
     "execution_count": 35,
     "metadata": {},
     "output_type": "execute_result"
    }
   ],
   "source": [
    "articles_grouped = df_all.groupby(\"article_id\")[\"session_size\"].count()\n",
    "top_articles = articles_grouped.sort_values(ascending=False)[:15]\n",
    "top_articles"
   ]
  },
  {
   "cell_type": "code",
   "execution_count": 36,
   "metadata": {},
   "outputs": [
    {
     "data": {
      "text/html": [
       "<div>\n",
       "<style scoped>\n",
       "    .dataframe tbody tr th:only-of-type {\n",
       "        vertical-align: middle;\n",
       "    }\n",
       "\n",
       "    .dataframe tbody tr th {\n",
       "        vertical-align: top;\n",
       "    }\n",
       "\n",
       "    .dataframe thead th {\n",
       "        text-align: right;\n",
       "    }\n",
       "</style>\n",
       "<table border=\"1\" class=\"dataframe\">\n",
       "  <thead>\n",
       "    <tr style=\"text-align: right;\">\n",
       "      <th></th>\n",
       "      <th>user_id</th>\n",
       "      <th>article_id</th>\n",
       "      <th>session_size</th>\n",
       "      <th>click_timestamp</th>\n",
       "      <th>session_size_r</th>\n",
       "      <th>session_size_r</th>\n",
       "    </tr>\n",
       "  </thead>\n",
       "  <tbody>\n",
       "    <tr>\n",
       "      <th>51359</th>\n",
       "      <td>4966</td>\n",
       "      <td>272660</td>\n",
       "      <td>9</td>\n",
       "      <td>1506903393355</td>\n",
       "      <td>465</td>\n",
       "      <td>16175</td>\n",
       "    </tr>\n",
       "    <tr>\n",
       "      <th>47131</th>\n",
       "      <td>2151</td>\n",
       "      <td>272660</td>\n",
       "      <td>4</td>\n",
       "      <td>1506896941346</td>\n",
       "      <td>722</td>\n",
       "      <td>16175</td>\n",
       "    </tr>\n",
       "    <tr>\n",
       "      <th>47012</th>\n",
       "      <td>6922</td>\n",
       "      <td>272660</td>\n",
       "      <td>3</td>\n",
       "      <td>1506897252077</td>\n",
       "      <td>469</td>\n",
       "      <td>16175</td>\n",
       "    </tr>\n",
       "    <tr>\n",
       "      <th>58401</th>\n",
       "      <td>12897</td>\n",
       "      <td>272660</td>\n",
       "      <td>7</td>\n",
       "      <td>1506943095529</td>\n",
       "      <td>513</td>\n",
       "      <td>16175</td>\n",
       "    </tr>\n",
       "    <tr>\n",
       "      <th>48978</th>\n",
       "      <td>4568</td>\n",
       "      <td>272660</td>\n",
       "      <td>6</td>\n",
       "      <td>1506899255838</td>\n",
       "      <td>529</td>\n",
       "      <td>16175</td>\n",
       "    </tr>\n",
       "    <tr>\n",
       "      <th>...</th>\n",
       "      <td>...</td>\n",
       "      <td>...</td>\n",
       "      <td>...</td>\n",
       "      <td>...</td>\n",
       "      <td>...</td>\n",
       "      <td>...</td>\n",
       "    </tr>\n",
       "    <tr>\n",
       "      <th>306086</th>\n",
       "      <td>2151</td>\n",
       "      <td>158536</td>\n",
       "      <td>4</td>\n",
       "      <td>1506978750869</td>\n",
       "      <td>722</td>\n",
       "      <td>18646</td>\n",
       "    </tr>\n",
       "    <tr>\n",
       "      <th>298492</th>\n",
       "      <td>851</td>\n",
       "      <td>158536</td>\n",
       "      <td>8</td>\n",
       "      <td>1506944419408</td>\n",
       "      <td>452</td>\n",
       "      <td>18646</td>\n",
       "    </tr>\n",
       "    <tr>\n",
       "      <th>314061</th>\n",
       "      <td>34541</td>\n",
       "      <td>158536</td>\n",
       "      <td>13</td>\n",
       "      <td>1506995681872</td>\n",
       "      <td>501</td>\n",
       "      <td>18646</td>\n",
       "    </tr>\n",
       "    <tr>\n",
       "      <th>303058</th>\n",
       "      <td>16695</td>\n",
       "      <td>158536</td>\n",
       "      <td>7</td>\n",
       "      <td>1506959097873</td>\n",
       "      <td>480</td>\n",
       "      <td>18646</td>\n",
       "    </tr>\n",
       "    <tr>\n",
       "      <th>305262</th>\n",
       "      <td>73574</td>\n",
       "      <td>158536</td>\n",
       "      <td>82</td>\n",
       "      <td>1506975376545</td>\n",
       "      <td>939</td>\n",
       "      <td>18646</td>\n",
       "    </tr>\n",
       "  </tbody>\n",
       "</table>\n",
       "<p>228 rows × 6 columns</p>\n",
       "</div>"
      ],
      "text/plain": [
       "        user_id  article_id  session_size  click_timestamp  session_size_r  \\\n",
       "51359      4966      272660             9    1506903393355             465   \n",
       "47131      2151      272660             4    1506896941346             722   \n",
       "47012      6922      272660             3    1506897252077             469   \n",
       "58401     12897      272660             7    1506943095529             513   \n",
       "48978      4568      272660             6    1506899255838             529   \n",
       "...         ...         ...           ...              ...             ...   \n",
       "306086     2151      158536             4    1506978750869             722   \n",
       "298492      851      158536             8    1506944419408             452   \n",
       "314061    34541      158536            13    1506995681872             501   \n",
       "303058    16695      158536             7    1506959097873             480   \n",
       "305262    73574      158536            82    1506975376545             939   \n",
       "\n",
       "        session_size_r  \n",
       "51359            16175  \n",
       "47131            16175  \n",
       "47012            16175  \n",
       "58401            16175  \n",
       "48978            16175  \n",
       "...                ...  \n",
       "306086           18646  \n",
       "298492           18646  \n",
       "314061           18646  \n",
       "303058           18646  \n",
       "305262           18646  \n",
       "\n",
       "[228 rows x 6 columns]"
      ]
     },
     "execution_count": 36,
     "metadata": {},
     "output_type": "execute_result"
    }
   ],
   "source": [
    "top_r = df_all.join(top_users, rsuffix=\"_r\", how=\"inner\", on=\"user_id\")\n",
    "top_r = top_r.join(top_articles, rsuffix=\"_r\", how=\"inner\", on=\"article_id\")\n",
    "top_r"
   ]
  },
  {
   "cell_type": "code",
   "execution_count": 37,
   "metadata": {},
   "outputs": [
    {
     "data": {
      "text/html": [
       "<div>\n",
       "<style scoped>\n",
       "    .dataframe tbody tr th:only-of-type {\n",
       "        vertical-align: middle;\n",
       "    }\n",
       "\n",
       "    .dataframe tbody tr th {\n",
       "        vertical-align: top;\n",
       "    }\n",
       "\n",
       "    .dataframe thead th {\n",
       "        text-align: right;\n",
       "    }\n",
       "</style>\n",
       "<table border=\"1\" class=\"dataframe\">\n",
       "  <thead>\n",
       "    <tr style=\"text-align: right;\">\n",
       "      <th>article_id</th>\n",
       "      <th>64329</th>\n",
       "      <th>96210</th>\n",
       "      <th>123909</th>\n",
       "      <th>158536</th>\n",
       "      <th>160974</th>\n",
       "      <th>162655</th>\n",
       "      <th>168623</th>\n",
       "      <th>183176</th>\n",
       "      <th>199198</th>\n",
       "      <th>234698</th>\n",
       "      <th>272143</th>\n",
       "      <th>272660</th>\n",
       "      <th>331116</th>\n",
       "      <th>336221</th>\n",
       "      <th>336223</th>\n",
       "    </tr>\n",
       "    <tr>\n",
       "      <th>user_id</th>\n",
       "      <th></th>\n",
       "      <th></th>\n",
       "      <th></th>\n",
       "      <th></th>\n",
       "      <th></th>\n",
       "      <th></th>\n",
       "      <th></th>\n",
       "      <th></th>\n",
       "      <th></th>\n",
       "      <th></th>\n",
       "      <th></th>\n",
       "      <th></th>\n",
       "      <th></th>\n",
       "      <th></th>\n",
       "      <th></th>\n",
       "    </tr>\n",
       "  </thead>\n",
       "  <tbody>\n",
       "    <tr>\n",
       "      <th>851</th>\n",
       "      <td>8.0</td>\n",
       "      <td>5.0</td>\n",
       "      <td>5.0</td>\n",
       "      <td>8.0</td>\n",
       "      <td>17.0</td>\n",
       "      <td>9.0</td>\n",
       "      <td>17.0</td>\n",
       "      <td>8.0</td>\n",
       "      <td>9.0</td>\n",
       "      <td>12.0</td>\n",
       "      <td>11.0</td>\n",
       "      <td>NaN</td>\n",
       "      <td>16.0</td>\n",
       "      <td>NaN</td>\n",
       "      <td>4.0</td>\n",
       "    </tr>\n",
       "    <tr>\n",
       "      <th>2151</th>\n",
       "      <td>5.0</td>\n",
       "      <td>41.0</td>\n",
       "      <td>17.0</td>\n",
       "      <td>36.0</td>\n",
       "      <td>68.0</td>\n",
       "      <td>31.0</td>\n",
       "      <td>8.0</td>\n",
       "      <td>20.0</td>\n",
       "      <td>65.0</td>\n",
       "      <td>131.0</td>\n",
       "      <td>37.0</td>\n",
       "      <td>4.0</td>\n",
       "      <td>10.0</td>\n",
       "      <td>91.0</td>\n",
       "      <td>119.0</td>\n",
       "    </tr>\n",
       "    <tr>\n",
       "      <th>4568</th>\n",
       "      <td>NaN</td>\n",
       "      <td>16.0</td>\n",
       "      <td>13.0</td>\n",
       "      <td>NaN</td>\n",
       "      <td>2.0</td>\n",
       "      <td>30.0</td>\n",
       "      <td>14.0</td>\n",
       "      <td>9.0</td>\n",
       "      <td>NaN</td>\n",
       "      <td>15.0</td>\n",
       "      <td>30.0</td>\n",
       "      <td>6.0</td>\n",
       "      <td>7.0</td>\n",
       "      <td>NaN</td>\n",
       "      <td>18.0</td>\n",
       "    </tr>\n",
       "    <tr>\n",
       "      <th>4966</th>\n",
       "      <td>10.0</td>\n",
       "      <td>12.0</td>\n",
       "      <td>12.0</td>\n",
       "      <td>NaN</td>\n",
       "      <td>7.0</td>\n",
       "      <td>15.0</td>\n",
       "      <td>9.0</td>\n",
       "      <td>7.0</td>\n",
       "      <td>5.0</td>\n",
       "      <td>5.0</td>\n",
       "      <td>6.0</td>\n",
       "      <td>9.0</td>\n",
       "      <td>8.0</td>\n",
       "      <td>21.0</td>\n",
       "      <td>6.0</td>\n",
       "    </tr>\n",
       "    <tr>\n",
       "      <th>5890</th>\n",
       "      <td>5.0</td>\n",
       "      <td>NaN</td>\n",
       "      <td>2.0</td>\n",
       "      <td>NaN</td>\n",
       "      <td>NaN</td>\n",
       "      <td>NaN</td>\n",
       "      <td>NaN</td>\n",
       "      <td>NaN</td>\n",
       "      <td>NaN</td>\n",
       "      <td>2.0</td>\n",
       "      <td>5.0</td>\n",
       "      <td>NaN</td>\n",
       "      <td>3.0</td>\n",
       "      <td>NaN</td>\n",
       "      <td>NaN</td>\n",
       "    </tr>\n",
       "    <tr>\n",
       "      <th>6922</th>\n",
       "      <td>4.0</td>\n",
       "      <td>5.0</td>\n",
       "      <td>4.0</td>\n",
       "      <td>NaN</td>\n",
       "      <td>30.0</td>\n",
       "      <td>NaN</td>\n",
       "      <td>NaN</td>\n",
       "      <td>2.0</td>\n",
       "      <td>3.0</td>\n",
       "      <td>55.0</td>\n",
       "      <td>30.0</td>\n",
       "      <td>3.0</td>\n",
       "      <td>11.0</td>\n",
       "      <td>37.0</td>\n",
       "      <td>32.0</td>\n",
       "    </tr>\n",
       "    <tr>\n",
       "      <th>11521</th>\n",
       "      <td>NaN</td>\n",
       "      <td>NaN</td>\n",
       "      <td>33.0</td>\n",
       "      <td>NaN</td>\n",
       "      <td>10.0</td>\n",
       "      <td>7.0</td>\n",
       "      <td>NaN</td>\n",
       "      <td>NaN</td>\n",
       "      <td>17.0</td>\n",
       "      <td>NaN</td>\n",
       "      <td>17.0</td>\n",
       "      <td>NaN</td>\n",
       "      <td>33.0</td>\n",
       "      <td>25.0</td>\n",
       "      <td>25.0</td>\n",
       "    </tr>\n",
       "    <tr>\n",
       "      <th>12897</th>\n",
       "      <td>NaN</td>\n",
       "      <td>28.0</td>\n",
       "      <td>22.0</td>\n",
       "      <td>NaN</td>\n",
       "      <td>17.0</td>\n",
       "      <td>30.0</td>\n",
       "      <td>27.0</td>\n",
       "      <td>28.0</td>\n",
       "      <td>4.0</td>\n",
       "      <td>35.0</td>\n",
       "      <td>3.0</td>\n",
       "      <td>7.0</td>\n",
       "      <td>7.0</td>\n",
       "      <td>22.0</td>\n",
       "      <td>50.0</td>\n",
       "    </tr>\n",
       "    <tr>\n",
       "      <th>15867</th>\n",
       "      <td>2.0</td>\n",
       "      <td>2.0</td>\n",
       "      <td>46.0</td>\n",
       "      <td>NaN</td>\n",
       "      <td>35.0</td>\n",
       "      <td>10.0</td>\n",
       "      <td>7.0</td>\n",
       "      <td>2.0</td>\n",
       "      <td>NaN</td>\n",
       "      <td>12.0</td>\n",
       "      <td>NaN</td>\n",
       "      <td>3.0</td>\n",
       "      <td>NaN</td>\n",
       "      <td>3.0</td>\n",
       "      <td>NaN</td>\n",
       "    </tr>\n",
       "    <tr>\n",
       "      <th>16695</th>\n",
       "      <td>NaN</td>\n",
       "      <td>2.0</td>\n",
       "      <td>37.0</td>\n",
       "      <td>7.0</td>\n",
       "      <td>34.0</td>\n",
       "      <td>39.0</td>\n",
       "      <td>NaN</td>\n",
       "      <td>NaN</td>\n",
       "      <td>19.0</td>\n",
       "      <td>18.0</td>\n",
       "      <td>11.0</td>\n",
       "      <td>NaN</td>\n",
       "      <td>NaN</td>\n",
       "      <td>12.0</td>\n",
       "      <td>8.0</td>\n",
       "    </tr>\n",
       "    <tr>\n",
       "      <th>34541</th>\n",
       "      <td>13.0</td>\n",
       "      <td>46.0</td>\n",
       "      <td>23.0</td>\n",
       "      <td>13.0</td>\n",
       "      <td>NaN</td>\n",
       "      <td>NaN</td>\n",
       "      <td>57.0</td>\n",
       "      <td>4.0</td>\n",
       "      <td>13.0</td>\n",
       "      <td>NaN</td>\n",
       "      <td>13.0</td>\n",
       "      <td>37.0</td>\n",
       "      <td>42.0</td>\n",
       "      <td>NaN</td>\n",
       "      <td>19.0</td>\n",
       "    </tr>\n",
       "    <tr>\n",
       "      <th>48723</th>\n",
       "      <td>NaN</td>\n",
       "      <td>16.0</td>\n",
       "      <td>22.0</td>\n",
       "      <td>NaN</td>\n",
       "      <td>NaN</td>\n",
       "      <td>NaN</td>\n",
       "      <td>NaN</td>\n",
       "      <td>22.0</td>\n",
       "      <td>NaN</td>\n",
       "      <td>NaN</td>\n",
       "      <td>NaN</td>\n",
       "      <td>NaN</td>\n",
       "      <td>NaN</td>\n",
       "      <td>26.0</td>\n",
       "      <td>NaN</td>\n",
       "    </tr>\n",
       "    <tr>\n",
       "      <th>73574</th>\n",
       "      <td>82.0</td>\n",
       "      <td>NaN</td>\n",
       "      <td>71.0</td>\n",
       "      <td>82.0</td>\n",
       "      <td>82.0</td>\n",
       "      <td>82.0</td>\n",
       "      <td>106.0</td>\n",
       "      <td>NaN</td>\n",
       "      <td>75.0</td>\n",
       "      <td>92.0</td>\n",
       "      <td>NaN</td>\n",
       "      <td>NaN</td>\n",
       "      <td>NaN</td>\n",
       "      <td>71.0</td>\n",
       "      <td>195.0</td>\n",
       "    </tr>\n",
       "    <tr>\n",
       "      <th>80350</th>\n",
       "      <td>NaN</td>\n",
       "      <td>NaN</td>\n",
       "      <td>NaN</td>\n",
       "      <td>NaN</td>\n",
       "      <td>NaN</td>\n",
       "      <td>NaN</td>\n",
       "      <td>NaN</td>\n",
       "      <td>NaN</td>\n",
       "      <td>NaN</td>\n",
       "      <td>NaN</td>\n",
       "      <td>17.0</td>\n",
       "      <td>NaN</td>\n",
       "      <td>NaN</td>\n",
       "      <td>NaN</td>\n",
       "      <td>NaN</td>\n",
       "    </tr>\n",
       "  </tbody>\n",
       "</table>\n",
       "</div>"
      ],
      "text/plain": [
       "article_id  64329   96210   123909  158536  160974  162655  168623  183176  \\\n",
       "user_id                                                                      \n",
       "851            8.0     5.0     5.0     8.0    17.0     9.0    17.0     8.0   \n",
       "2151           5.0    41.0    17.0    36.0    68.0    31.0     8.0    20.0   \n",
       "4568           NaN    16.0    13.0     NaN     2.0    30.0    14.0     9.0   \n",
       "4966          10.0    12.0    12.0     NaN     7.0    15.0     9.0     7.0   \n",
       "5890           5.0     NaN     2.0     NaN     NaN     NaN     NaN     NaN   \n",
       "6922           4.0     5.0     4.0     NaN    30.0     NaN     NaN     2.0   \n",
       "11521          NaN     NaN    33.0     NaN    10.0     7.0     NaN     NaN   \n",
       "12897          NaN    28.0    22.0     NaN    17.0    30.0    27.0    28.0   \n",
       "15867          2.0     2.0    46.0     NaN    35.0    10.0     7.0     2.0   \n",
       "16695          NaN     2.0    37.0     7.0    34.0    39.0     NaN     NaN   \n",
       "34541         13.0    46.0    23.0    13.0     NaN     NaN    57.0     4.0   \n",
       "48723          NaN    16.0    22.0     NaN     NaN     NaN     NaN    22.0   \n",
       "73574         82.0     NaN    71.0    82.0    82.0    82.0   106.0     NaN   \n",
       "80350          NaN     NaN     NaN     NaN     NaN     NaN     NaN     NaN   \n",
       "\n",
       "article_id  199198  234698  272143  272660  331116  336221  336223  \n",
       "user_id                                                             \n",
       "851            9.0    12.0    11.0     NaN    16.0     NaN     4.0  \n",
       "2151          65.0   131.0    37.0     4.0    10.0    91.0   119.0  \n",
       "4568           NaN    15.0    30.0     6.0     7.0     NaN    18.0  \n",
       "4966           5.0     5.0     6.0     9.0     8.0    21.0     6.0  \n",
       "5890           NaN     2.0     5.0     NaN     3.0     NaN     NaN  \n",
       "6922           3.0    55.0    30.0     3.0    11.0    37.0    32.0  \n",
       "11521         17.0     NaN    17.0     NaN    33.0    25.0    25.0  \n",
       "12897          4.0    35.0     3.0     7.0     7.0    22.0    50.0  \n",
       "15867          NaN    12.0     NaN     3.0     NaN     3.0     NaN  \n",
       "16695         19.0    18.0    11.0     NaN     NaN    12.0     8.0  \n",
       "34541         13.0     NaN    13.0    37.0    42.0     NaN    19.0  \n",
       "48723          NaN     NaN     NaN     NaN     NaN    26.0     NaN  \n",
       "73574         75.0    92.0     NaN     NaN     NaN    71.0   195.0  \n",
       "80350          NaN     NaN    17.0     NaN     NaN     NaN     NaN  "
      ]
     },
     "execution_count": 37,
     "metadata": {},
     "output_type": "execute_result"
    }
   ],
   "source": [
    "top_r = df_all.join(top_users, rsuffix=\"_r\", how=\"inner\", on=\"user_id\")\n",
    "top_r = top_r.join(top_articles, rsuffix=\"_r\", how=\"inner\", on=\"article_id\")\n",
    "pd.crosstab(top_r[\"user_id\"], top_r[\"article_id\"], top_r[\"session_size\"], aggfunc=np.sum)"
   ]
  },
  {
   "cell_type": "code",
   "execution_count": 38,
   "metadata": {},
   "outputs": [
    {
     "data": {
      "image/png": "[encoded data removed]",
      "text/plain": [
       "<Figure size 1152x432 with 2 Axes>"
      ]
     },
     "metadata": {
      "needs_background": "light"
     },
     "output_type": "display_data"
    }
   ],
   "source": [
    "fig, ax = plt.subplots(figsize=(16, 6))\n",
    "plt.rcParams.update({\"font.size\": 14})\n",
    "sns.heatmap(data=pd.crosstab(top_r[\"user_id\"], top_r[\"article_id\"], top_r[\"session_size\"], aggfunc=np.sum),\n",
    "            annot=True, fmt=\".1f\",\n",
    "            #cmap=[\"red\", \"orange\", \"yellow\", \"green\"], cbar=False, \n",
    "            linewidth=1, linecolor=\"white\")\n",
    "plt.show()"
   ]
  },
  {
   "cell_type": "markdown",
   "metadata": {},
   "source": [
    "<b> Local training of Keras model </b>"
   ]
  },
  {
   "cell_type": "code",
   "execution_count": 140,
   "metadata": {},
   "outputs": [
    {
     "name": "stdout",
     "output_type": "stream",
     "text": [
      "##########################################\n",
      "# TRAINING STEP: COLLABORATIVE FILTERING #\n",
      "##########################################\n",
      "\n",
      "----------------------------------\n",
      "| Label encoding users and items |\n",
      "----------------------------------\n",
      "\n",
      "Path to df_train csv file: C:\\Users\\RNH\\Desktop\\Travail\\Projet9\\project\\train_reco\\save\\df_train.csv\n",
      "Number of unique users: 321818\n",
      "Number of unique articles: 43562\n",
      "\n",
      "------------------------\n",
      "| Training Keras model |\n",
      "------------------------\n",
      "\n",
      "Learning rate: 0.001\n",
      "Optimizer: Adam\n",
      "Loss: mean_squared_error\n",
      "batch size: 512\n",
      "Epochs: 3\n",
      "Best fitted model saved to: C:\\Users\\RNH\\Desktop\\Travail\\Projet9\\project\\train_reco\\save\\best_model.h5\n",
      "\n",
      "Epoch 1/3\n",
      "4728/4728 [==============================] - 884s 187ms/step - loss: 8.7318 - val_loss: 5.4127\n",
      "\n",
      "Epoch 00001: val_loss improved from inf to 5.41273, saving model to C:\\Users\\RNH\\Desktop\\Travail\\Projet9\\project\\train_reco\\save\\best_model.h5\n",
      "Epoch 2/3\n",
      "4728/4728 [==============================] - 876s 185ms/step - loss: 5.3948 - val_loss: 5.2640\n",
      "\n",
      "Epoch 00002: val_loss improved from 5.41273 to 5.26396, saving model to C:\\Users\\RNH\\Desktop\\Travail\\Projet9\\project\\train_reco\\save\\best_model.h5\n",
      "Epoch 3/3\n",
      "4728/4728 [==============================] - 872s 185ms/step - loss: 4.9245 - val_loss: 5.2006\n",
      "\n",
      "Epoch 00003: val_loss improved from 5.26396 to 5.20059, saving model to C:\\Users\\RNH\\Desktop\\Travail\\Projet9\\project\\train_reco\\save\\best_model.h5\n",
      "\n",
      "------------\n",
      "Total recommendation step time: 44m 2s\n"
     ]
    },
    {
     "data": {
      "image/png": "[encoded data removed]",
      "text/plain": [
       "<Figure size 720x432 with 1 Axes>"
      ]
     },
     "metadata": {
      "needs_background": "light"
     },
     "output_type": "display_data"
    }
   ],
   "source": [
    "df_train_path = workdir + \"\\\\save\\\\df_train.csv\"\n",
    "n_factors = 50\n",
    "batch_size = 512\n",
    "learning_rate = 0.001\n",
    "num_epochs = 3\n",
    "save_folder = workdir + \"\\\\save\"\n",
    "\n",
    "%run $workdir/reco_cf.py \\\n",
    "--path_to_df_train $df_train_path \\\n",
    "--n_factors $n_factors \\\n",
    "--learning_rate $learning_rate \\\n",
    "--batch_size $batch_size \\\n",
    "--num_epochs $num_epochs \\\n",
    "--path_to_save_folder $save_folder"
   ]
  },
  {
   "cell_type": "markdown",
   "metadata": {},
   "source": [
    "# 4. Recommendation module"
   ]
  },
  {
   "cell_type": "code",
   "execution_count": 160,
   "metadata": {},
   "outputs": [
    {
     "name": "stdout",
     "output_type": "stream",
     "text": [
      "#########################\n",
      "# RECOMMENDATION MODULE #\n",
      "#########################\n",
      "\n",
      "Recommendation for user ID: 100289\n",
      "Recommendation model used: Item-Item similarity\n",
      "\n",
      "Computing cosine similarity for user 100289 first opened article\n"
     ]
    },
    {
     "name": "stderr",
     "output_type": "stream",
     "text": [
      "100%|██████████| 364047/364047 [01:44<00:00, 3479.10it/s]\n"
     ]
    },
    {
     "name": "stdout",
     "output_type": "stream",
     "text": [
      "\n",
      "Top 5 articles recommended: [203558 202443 202330 203536 202346]\n",
      "\n",
      "------------\n",
      "Total time: 1m 52s\n"
     ]
    }
   ],
   "source": [
    "model = \"iis\"\n",
    "user_id = 100289\n",
    "num_reco = 5\n",
    "\n",
    "path_to_df_wmr = workdir + \"\\\\save\\\\df_reco_wmr.csv\"\n",
    "min_ratings = 5\n",
    "\n",
    "path_to_df_iis = workdir + \"\\\\save\\\\df_all.csv\"\n",
    "path_to_embeddings = workdir + \"\\\\articles_embeddings.pickle\"\n",
    "\n",
    "path_to_df_cf = workdir + \"\\\\save\\\\df_cf_nn.csv\"\n",
    "path_to_nn_model = workdir + \"\\\\save\\\\best_model.h5\"\n",
    "\n",
    "\n",
    "%run $workdir/predict.py \\\n",
    "--model $model \\\n",
    "--user_id $user_id \\\n",
    "--num_reco $num_reco \\\n",
    "--path_to_df_wmr $path_to_df_wmr \\\n",
    "--min_ratings $min_ratings \\\n",
    "--path_to_df_iis $df_path \\\n",
    "--path_to_embeddings $path_to_embeddings \\\n",
    "--path_to_df_cf $path_to_df_cf \\\n",
    "--path_to_nn_model $path_to_nn_model"
   ]
  },
  {
   "cell_type": "code",
   "execution_count": 148,
   "metadata": {},
   "outputs": [
    {
     "name": "stdout",
     "output_type": "stream",
     "text": [
      "#########################\n",
      "# RECOMMENDATION MODULE #\n",
      "#########################\n",
      "\n",
      "Recommendation for user ID: 100289\n",
      "Recommendation model used: Collaborative filtering with Keras\n",
      "User ID encoded 100126\n",
      "[31947 12686 15253 25764 11981]\n",
      "\n",
      "Top 5 articles recommended: [257577, 95913, 110263, 204710, 89137]\n",
      "\n",
      "------------\n",
      "Total time: 0m 2s\n"
     ]
    }
   ],
   "source": [
    "model = \"cf\"\n",
    "user_id = 100289\n",
    "num_reco = 5\n",
    "\n",
    "path_to_df_wmr = workdir + \"\\\\save\\\\df_reco_wmr.csv\"\n",
    "min_ratings = 5\n",
    "\n",
    "path_to_df_iis = workdir + \"\\\\save\\\\df_all.csv\"\n",
    "path_to_embeddings = workdir + \"\\\\articles_embeddings.pickle\"\n",
    "\n",
    "path_to_df_cf = workdir + \"\\\\save\\\\df_cf_nn.csv\"\n",
    "path_to_nn_model = workdir + \"\\\\save\\\\best_model.h5\"\n",
    "\n",
    "\n",
    "%run $workdir/predict.py \\\n",
    "--model $model \\\n",
    "--user_id $user_id \\\n",
    "--num_reco $num_reco \\\n",
    "--path_to_df_wmr $path_to_df_wmr \\\n",
    "--min_ratings $min_ratings \\\n",
    "--path_to_df_iis $df_path \\\n",
    "--path_to_embeddings $path_to_embeddings \\\n",
    "--path_to_df_cf $path_to_df_cf \\\n",
    "--path_to_nn_model $path_to_nn_model"
   ]
  },
  {
   "cell_type": "code",
   "execution_count": null,
   "metadata": {},
   "outputs": [],
   "source": []
  }
 ],
 "metadata": {
  "kernelspec": {
   "display_name": "oc_p9",
   "language": "python",
   "name": "oc_p9"
  },
  "language_info": {
   "codemirror_mode": {
    "name": "ipython",
    "version": 3
   },
   "file_extension": ".py",
   "mimetype": "text/x-python",
   "name": "python",
   "nbconvert_exporter": "python",
   "pygments_lexer": "ipython3",
   "version": "3.8.5"
  }
 },
 "nbformat": 4,
 "nbformat_minor": 4
}
